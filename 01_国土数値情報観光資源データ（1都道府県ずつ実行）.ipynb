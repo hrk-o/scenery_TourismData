{
 "cells": [
  {
   "cell_type": "markdown",
   "metadata": {},
   "source": [
    "## 国土数値情報 観光資源データ\n",
    "2023/04/25  \n",
    "データを取得し、分析しやすい形式に変換する  \n",
    "[国土交通省　観光資源データ - 国土数値情報](https://nlftp.mlit.go.jp/ksj/gml/datalist/KsjTmplt-P12-v2_2.html)"
   ]
  },
  {
   "cell_type": "markdown",
   "metadata": {},
   "source": [
    "### データクレンジング\n",
    "P12-14_22.xml：静岡県のデータ"
   ]
  },
  {
   "cell_type": "code",
   "execution_count": 1,
   "metadata": {},
   "outputs": [],
   "source": [
    "import pandas as pd\n",
    "import xmljson\n",
    "from lxml import etree\n",
    "import os\n",
    "import csv\n",
    "import collections"
   ]
  },
  {
   "cell_type": "code",
   "execution_count": 98,
   "metadata": {
    "deletable": false,
    "editable": false,
    "run_control": {
     "frozen": true
    }
   },
   "outputs": [
    {
     "name": "stdout",
     "output_type": "stream",
     "text": [
      "Collecting xmljson\n",
      "  Downloading xmljson-0.2.1-py2.py3-none-any.whl (10 kB)\n",
      "Installing collected packages: xmljson\n",
      "Successfully installed xmljson-0.2.1\n"
     ]
    }
   ],
   "source": [
    "!pip install xmljson"
   ]
  },
  {
   "cell_type": "code",
   "execution_count": 2,
   "metadata": {},
   "outputs": [],
   "source": [
    "#xmlデータを読み込みます\n",
    "\n",
    "i = 22\n",
    "name = 'P12-14_{:02}'.format(i)\n",
    "if i in [10,12,17,21,22,28]:\n",
    "    xml_tree = etree.parse('01_input/{}_replace.xml'.format(name))\n",
    "else:\n",
    "    xml_tree = etree.parse('01_input/{}.xml'.format(name))\n",
    "# すべてのタグの取得\n",
    "xml_root = xml_tree.getroot()\n",
    "# xmlデータをdict型に変換\n",
    "xml_dict = xmljson.yahoo.data(xml_root)\n"
   ]
  },
  {
   "cell_type": "code",
   "execution_count": 3,
   "metadata": {},
   "outputs": [],
   "source": [
    "if not os.path.exists('01_output/{}'.format(name)):\n",
    "    # ディレクトリが存在しない場合、ディレクトリを作成する\n",
    "    os.makedirs('01_output/{}'.format(name))"
   ]
  },
  {
   "cell_type": "code",
   "execution_count": 4,
   "metadata": {},
   "outputs": [
    {
     "data": {
      "text/plain": [
       "odict_keys(['{http://www.opengis.net/gml/3.2}id', '{http://www.opengis.net/gml/3.2}description', '{http://www.opengis.net/gml/3.2}boundedBy', '{http://www.opengis.net/gml/3.2}Surface', '{http://www.opengis.net/gml/3.2}Curve', '{http://www.opengis.net/gml/3.2}Point', '{http://nlftp.mlit.go.jp/ksj/schemas/ksj-app}TourismResource_Surface', '{http://nlftp.mlit.go.jp/ksj/schemas/ksj-app}TourismResource_Line', '{http://nlftp.mlit.go.jp/ksj/schemas/ksj-app}TourismResource_Point'])"
      ]
     },
     "execution_count": 4,
     "metadata": {},
     "output_type": "execute_result"
    }
   ],
   "source": [
    "xml_keys = xml_dict['{http://nlftp.mlit.go.jp/ksj/schemas/ksj-app}Dataset'].keys()\n",
    "xml_keys"
   ]
  },
  {
   "cell_type": "code",
   "execution_count": 5,
   "metadata": {},
   "outputs": [
    {
     "data": {
      "text/plain": [
       "'P12Dataset'"
      ]
     },
     "execution_count": 5,
     "metadata": {},
     "output_type": "execute_result"
    }
   ],
   "source": [
    "#データセットid\n",
    "xml_dict['{http://nlftp.mlit.go.jp/ksj/schemas/ksj-app}Dataset']['{http://www.opengis.net/gml/3.2}id']"
   ]
  },
  {
   "cell_type": "code",
   "execution_count": 6,
   "metadata": {},
   "outputs": [
    {
     "data": {
      "text/plain": [
       "'国土数値情報 観光資源（面） インスタンス文書'"
      ]
     },
     "execution_count": 6,
     "metadata": {},
     "output_type": "execute_result"
    }
   ],
   "source": [
    "#データセット名\n",
    "xml_dict['{http://nlftp.mlit.go.jp/ksj/schemas/ksj-app}Dataset']['{http://www.opengis.net/gml/3.2}description']"
   ]
  },
  {
   "cell_type": "code",
   "execution_count": 7,
   "metadata": {},
   "outputs": [
    {
     "data": {
      "text/plain": [
       "OrderedDict([('{http://www.opengis.net/gml/3.2}EnvelopeWithTimePeriod',\n",
       "              OrderedDict([('srsName', 'JGD2000 / (B, L)'),\n",
       "                           ('frame', 'GC / JST'),\n",
       "                           ('{http://www.opengis.net/gml/3.2}lowerCorner',\n",
       "                            '20.0 123.0'),\n",
       "                           ('{http://www.opengis.net/gml/3.2}upperCorner',\n",
       "                            '46.0 154.0'),\n",
       "                           ('{http://www.opengis.net/gml/3.2}beginPosition',\n",
       "                            OrderedDict([('calendarEraName', '西暦'),\n",
       "                                         ('content', '1900')])),\n",
       "                           ('{http://www.opengis.net/gml/3.2}endPosition',\n",
       "                            OrderedDict([('indeterminatePosition',\n",
       "                                          'unknown')]))]))])"
      ]
     },
     "execution_count": 7,
     "metadata": {},
     "output_type": "execute_result"
    }
   ],
   "source": [
    "#データセット基本情報\n",
    "xml_dict['{http://nlftp.mlit.go.jp/ksj/schemas/ksj-app}Dataset']['{http://www.opengis.net/gml/3.2}boundedBy']"
   ]
  },
  {
   "cell_type": "code",
   "execution_count": 8,
   "metadata": {},
   "outputs": [],
   "source": [
    "def getCurve(name, xmldata):\n",
    "    #★観光資源（線）-面にあるIDがデータになっている　緯度経度\n",
    "    if isinstance(xmldata, collections.OrderedDict):\n",
    "        xml_id = xmldata['{http://www.opengis.net/gml/3.2}id']\n",
    "        if 'pc_' in xml_id:\n",
    "            xml_id = 'pa'+xml_id[2:]\n",
    "        savelatlon(name, xml_id, xmldata['{http://www.opengis.net/gml/3.2}segments']['{http://www.opengis.net/gml/3.2}LineStringSegment'])\n",
    "    else:\n",
    "        for i in range(len(xmldata)):\n",
    "            xml_id = xmldata[i]['{http://www.opengis.net/gml/3.2}id']\n",
    "            #print(xml_id)\n",
    "            if 'pc_' in xml_id:\n",
    "                xml_id = 'pa'+xml_id[2:]\n",
    "            savelatlon(name, xml_id, xmldata[i]['{http://www.opengis.net/gml/3.2}segments']['{http://www.opengis.net/gml/3.2}LineStringSegment'])"
   ]
  },
  {
   "cell_type": "code",
   "execution_count": 9,
   "metadata": {},
   "outputs": [],
   "source": [
    "def savelatlon(name, xml_id, xmldata):\n",
    "    if isinstance(xmldata, collections.OrderedDict):\n",
    "        data = xmldata['{http://www.opengis.net/gml/3.2}posList']\n",
    "        data = data.split('\\n')[1:-1]\n",
    "        data = [[data[i].split(' ')[0], data[i].split(' ')[1]] for i in range(len(data))]\n",
    "    else:\n",
    "        data = []\n",
    "        for i in range(len(xmldata)):\n",
    "            xdata = xmldata[i]['{http://www.opengis.net/gml/3.2}posList']\n",
    "            xdata = xdata.split('\\n')[1:-1]\n",
    "            data = data + [[xdata[i].split(' ')[0], xdata[i].split(' ')[1]] for i in range(len(xdata))]\n",
    "    f = open('01_output/{}/{}.csv'.format(name, xml_id), 'w')\n",
    "    writer = csv.writer(f)\n",
    "    writer.writerows(data)\n",
    "    f.close()"
   ]
  },
  {
   "cell_type": "code",
   "execution_count": 10,
   "metadata": {},
   "outputs": [],
   "source": [
    "def multicode(xmldata):\n",
    "    text = ''\n",
    "    if isinstance(xmldata, collections.OrderedDict):#len(xmldata) == 1\n",
    "        return xmldata['content']\n",
    "    else:\n",
    "        for i in range(len(xmldata)):\n",
    "            if i > 0:\n",
    "                text = text + ','\n",
    "            text = text + xmldata[i]['content']\n",
    "        return text"
   ]
  },
  {
   "cell_type": "code",
   "execution_count": 11,
   "metadata": {},
   "outputs": [],
   "source": [
    "def getResource(resources, name, xmldata):\n",
    "    if isinstance(xmldata, collections.OrderedDict):\n",
    "        xml_id = xmldata['{http://nlftp.mlit.go.jp/ksj/schemas/ksj-app}'+'{}'.format(getflag(xmldata['{http://www.opengis.net/gml/3.2}id']))]['{http://www.w3.org/1999/xlink}href'][1:]\n",
    "        latlogs = pd.read_csv('01_output/{}/{}.csv'.format(name, xml_id),header=None)\n",
    "        resources.append([xml_id,xmldata['{http://nlftp.mlit.go.jp/ksj/schemas/ksj-app}turismResorceName'],xmldata['{http://nlftp.mlit.go.jp/ksj/schemas/ksj-app}address'], latlogs.mean()[0], latlogs.mean()[1],multicode(xmldata['{http://nlftp.mlit.go.jp/ksj/schemas/ksj-app}prefectureCode']),multicode(xmldata['{http://nlftp.mlit.go.jp/ksj/schemas/ksj-app}administartiveAreaCode']),xmldata['{http://nlftp.mlit.go.jp/ksj/schemas/ksj-app}turismResorceKindName'],xmldata['{http://nlftp.mlit.go.jp/ksj/schemas/ksj-app}tourismResourceCategoryCode']])\n",
    "    else:\n",
    "        flag = getflag(xmldata[0]['{http://www.opengis.net/gml/3.2}id'])\n",
    "        for i in range(len(xmldata)):\n",
    "            xml_id = xmldata[i]['{http://nlftp.mlit.go.jp/ksj/schemas/ksj-app}'+'{}'.format(flag)]['{http://www.w3.org/1999/xlink}href'][1:]\n",
    "            latlogs = pd.read_csv('01_output/{}/{}.csv'.format(name, xml_id),header=None)\n",
    "            resources.append([xml_id,xmldata[i]['{http://nlftp.mlit.go.jp/ksj/schemas/ksj-app}turismResorceName'],xmldata[i]['{http://nlftp.mlit.go.jp/ksj/schemas/ksj-app}address'], latlogs.mean()[0], latlogs.mean()[1],multicode(xmldata[i]['{http://nlftp.mlit.go.jp/ksj/schemas/ksj-app}prefectureCode']),multicode(xmldata[i]['{http://nlftp.mlit.go.jp/ksj/schemas/ksj-app}administartiveAreaCode']),xmldata[i]['{http://nlftp.mlit.go.jp/ksj/schemas/ksj-app}turismResorceKindName'],xmldata[i]['{http://nlftp.mlit.go.jp/ksj/schemas/ksj-app}tourismResourceCategoryCode']])\n",
    "            #print([xml_id,xmldata[i]['{http://nlftp.mlit.go.jp/ksj/schemas/ksj-app}turismResorceName'],xmldata[i]['{http://nlftp.mlit.go.jp/ksj/schemas/ksj-app}address'], latlogs.mean()[0], latlogs.mean()[1],xmldata[i]['{http://nlftp.mlit.go.jp/ksj/schemas/ksj-app}prefectureCode']['content'],xmldata[i]['{http://nlftp.mlit.go.jp/ksj/schemas/ksj-app}administartiveAreaCode']['content'],xmldata[i]['{http://nlftp.mlit.go.jp/ksj/schemas/ksj-app}turismResorceKindName'],xmldata[i]['{http://nlftp.mlit.go.jp/ksj/schemas/ksj-app}tourismResourceCategoryCode']])\n",
    "    return resources"
   ]
  },
  {
   "cell_type": "code",
   "execution_count": 12,
   "metadata": {},
   "outputs": [],
   "source": [
    "def getflag(gmlid):\n",
    "    if 'FL03_' in gmlid:\n",
    "        flag = 'location'\n",
    "    elif 'FL02_' in gmlid:\n",
    "        flag = 'bounds'\n",
    "    #elif 'FL04_' in gmlid:\n",
    "    #    flag = 'position'\n",
    "    return flag"
   ]
  },
  {
   "cell_type": "code",
   "execution_count": 13,
   "metadata": {},
   "outputs": [],
   "source": [
    "def getPointLatlon(pos):\n",
    "    if isinstance(pos, list):\n",
    "        plist = [[],[]]\n",
    "        for i in range(len(pos)):\n",
    "            plist[0].append(pos[i].split(' ')[0])\n",
    "            plist[1].append(pos[i].split(' ')[1])\n",
    "        return plist\n",
    "    else:\n",
    "        return [float(s) for s in pos.split(' ')]"
   ]
  },
  {
   "cell_type": "code",
   "execution_count": 14,
   "metadata": {},
   "outputs": [],
   "source": [
    "def getResourcePoint(resources, xmldata1, xmldata2):\n",
    "    dict_points = {}\n",
    "    for i in range(len(xmldata1)):\n",
    "        dict_points[xmldata1[i]['{http://www.opengis.net/gml/3.2}id']] = getPointLatlon(xmldata1[i]['{http://www.opengis.net/gml/3.2}pos'])\n",
    "    #print(dict_points)\n",
    "    for i in range(len(xmldata2)):\n",
    "        xml_id = xmldata2[i]['{http://nlftp.mlit.go.jp/ksj/schemas/ksj-app}position']['{http://www.w3.org/1999/xlink}href'][1:]\n",
    "        if isinstance(dict_points[xml_id][0], list):\n",
    "            for j in range(len(dict_points[xml_id][0])):\n",
    "                resources.append([xml_id, xmldata2[i]['{http://nlftp.mlit.go.jp/ksj/schemas/ksj-app}turismResorceName'], xmldata2[i]['{http://nlftp.mlit.go.jp/ksj/schemas/ksj-app}address'], dict_points[xml_id][0][j], dict_points[xml_id][1][j],multicode(xmldata2[i]['{http://nlftp.mlit.go.jp/ksj/schemas/ksj-app}prefectureCode']),multicode(xmldata2[i]['{http://nlftp.mlit.go.jp/ksj/schemas/ksj-app}administartiveAreaCode']),xmldata2[i]['{http://nlftp.mlit.go.jp/ksj/schemas/ksj-app}turismResorceKindName'],xmldata2[i]['{http://nlftp.mlit.go.jp/ksj/schemas/ksj-app}tourismResourceCategoryCode']])\n",
    "        else:\n",
    "            resources.append([xml_id, xmldata2[i]['{http://nlftp.mlit.go.jp/ksj/schemas/ksj-app}turismResorceName'], xmldata2[i]['{http://nlftp.mlit.go.jp/ksj/schemas/ksj-app}address'], dict_points[xml_id][0], dict_points[xml_id][1],multicode(xmldata2[i]['{http://nlftp.mlit.go.jp/ksj/schemas/ksj-app}prefectureCode']),multicode(xmldata2[i]['{http://nlftp.mlit.go.jp/ksj/schemas/ksj-app}administartiveAreaCode']),xmldata2[i]['{http://nlftp.mlit.go.jp/ksj/schemas/ksj-app}turismResorceKindName'],xmldata2[i]['{http://nlftp.mlit.go.jp/ksj/schemas/ksj-app}tourismResourceCategoryCode']])\n",
    "    return resources"
   ]
  },
  {
   "cell_type": "code",
   "execution_count": 15,
   "metadata": {},
   "outputs": [],
   "source": [
    "resources = []"
   ]
  },
  {
   "cell_type": "code",
   "execution_count": 16,
   "metadata": {},
   "outputs": [],
   "source": [
    "#面と線の緯度経度情報の取得\n",
    "getCurve(name, xml_dict['{http://nlftp.mlit.go.jp/ksj/schemas/ksj-app}Dataset']['{http://www.opengis.net/gml/3.2}Curve'])"
   ]
  },
  {
   "cell_type": "code",
   "execution_count": 17,
   "metadata": {},
   "outputs": [],
   "source": [
    "#観光資源（線）\n",
    "if '{http://nlftp.mlit.go.jp/ksj/schemas/ksj-app}TourismResource_Line' in xml_keys:\n",
    "    resources = getResource(resources, name, xml_dict['{http://nlftp.mlit.go.jp/ksj/schemas/ksj-app}Dataset']['{http://nlftp.mlit.go.jp/ksj/schemas/ksj-app}TourismResource_Line'])\n",
    "    resources"
   ]
  },
  {
   "cell_type": "code",
   "execution_count": 18,
   "metadata": {},
   "outputs": [],
   "source": [
    "#観光資源（面）に関する情報 名前、住所\n",
    "if '{http://nlftp.mlit.go.jp/ksj/schemas/ksj-app}TourismResource_Surface' in xml_keys:\n",
    "    resources = getResource(resources, name, xml_dict['{http://nlftp.mlit.go.jp/ksj/schemas/ksj-app}Dataset']['{http://nlftp.mlit.go.jp/ksj/schemas/ksj-app}TourismResource_Surface'])\n",
    "    resources"
   ]
  },
  {
   "cell_type": "code",
   "execution_count": 19,
   "metadata": {},
   "outputs": [],
   "source": [
    "if '{http://nlftp.mlit.go.jp/ksj/schemas/ksj-app}TourismResource_Point' in xml_keys:\n",
    "    resources = getResourcePoint(resources, xml_dict['{http://nlftp.mlit.go.jp/ksj/schemas/ksj-app}Dataset']['{http://www.opengis.net/gml/3.2}Point'], xml_dict['{http://nlftp.mlit.go.jp/ksj/schemas/ksj-app}Dataset']['{http://nlftp.mlit.go.jp/ksj/schemas/ksj-app}TourismResource_Point'])"
   ]
  },
  {
   "cell_type": "code",
   "execution_count": 20,
   "metadata": {},
   "outputs": [
    {
     "name": "stderr",
     "output_type": "stream",
     "text": [
      "<ipython-input-20-0d2d0370a69b>:3: UserWarning: Pandas requires version '1.4.3' or newer of 'xlsxwriter' (version '1.2.9' currently installed).\n",
      "  pd_resources.to_excel('01_output/{}/resources.xlsx'.format(name))\n"
     ]
    },
    {
     "data": {
      "text/html": [
       "<div>\n",
       "<style scoped>\n",
       "    .dataframe tbody tr th:only-of-type {\n",
       "        vertical-align: middle;\n",
       "    }\n",
       "\n",
       "    .dataframe tbody tr th {\n",
       "        vertical-align: top;\n",
       "    }\n",
       "\n",
       "    .dataframe thead th {\n",
       "        text-align: right;\n",
       "    }\n",
       "</style>\n",
       "<table border=\"1\" class=\"dataframe\">\n",
       "  <thead>\n",
       "    <tr style=\"text-align: right;\">\n",
       "      <th></th>\n",
       "      <th>id</th>\n",
       "      <th>name</th>\n",
       "      <th>adress</th>\n",
       "      <th>lat</th>\n",
       "      <th>lon</th>\n",
       "      <th>precode</th>\n",
       "      <th>areacode</th>\n",
       "      <th>category</th>\n",
       "      <th>category_flag</th>\n",
       "    </tr>\n",
       "  </thead>\n",
       "  <tbody>\n",
       "    <tr>\n",
       "      <th>0</th>\n",
       "      <td>lc_00000_0</td>\n",
       "      <td>白倉峡</td>\n",
       "      <td>浜松市天竜区龍山町大嶺1279-3</td>\n",
       "      <td>34.990775</td>\n",
       "      <td>137.780740</td>\n",
       "      <td>22</td>\n",
       "      <td>22137</td>\n",
       "      <td>‐</td>\n",
       "      <td>1</td>\n",
       "    </tr>\n",
       "    <tr>\n",
       "      <th>1</th>\n",
       "      <td>pa_00000_0</td>\n",
       "      <td>沼津御用邸記念公園</td>\n",
       "      <td>沼津市下香貫島郷2802-1</td>\n",
       "      <td>35.071364</td>\n",
       "      <td>138.873042</td>\n",
       "      <td>22</td>\n",
       "      <td>22203</td>\n",
       "      <td>‐</td>\n",
       "      <td>2</td>\n",
       "    </tr>\n",
       "    <tr>\n",
       "      <th>2</th>\n",
       "      <td>pa_00001_0</td>\n",
       "      <td>熱海城</td>\n",
       "      <td>熱海市曽我山1993</td>\n",
       "      <td>35.086431</td>\n",
       "      <td>139.078732</td>\n",
       "      <td>22</td>\n",
       "      <td>22205</td>\n",
       "      <td>‐</td>\n",
       "      <td>2</td>\n",
       "    </tr>\n",
       "    <tr>\n",
       "      <th>3</th>\n",
       "      <td>pa_00002_0</td>\n",
       "      <td>山中城跡公園</td>\n",
       "      <td>三島市山中新田</td>\n",
       "      <td>35.155694</td>\n",
       "      <td>138.993480</td>\n",
       "      <td>22</td>\n",
       "      <td>22206</td>\n",
       "      <td>‐</td>\n",
       "      <td>2</td>\n",
       "    </tr>\n",
       "    <tr>\n",
       "      <th>4</th>\n",
       "      <td>pa_00003_0</td>\n",
       "      <td>城ヶ崎海岸</td>\n",
       "      <td>伊東市富戸</td>\n",
       "      <td>34.891594</td>\n",
       "      <td>139.138785</td>\n",
       "      <td>22</td>\n",
       "      <td>22208</td>\n",
       "      <td>‐</td>\n",
       "      <td>1</td>\n",
       "    </tr>\n",
       "    <tr>\n",
       "      <th>...</th>\n",
       "      <td>...</td>\n",
       "      <td>...</td>\n",
       "      <td>...</td>\n",
       "      <td>...</td>\n",
       "      <td>...</td>\n",
       "      <td>...</td>\n",
       "      <td>...</td>\n",
       "      <td>...</td>\n",
       "      <td>...</td>\n",
       "    </tr>\n",
       "    <tr>\n",
       "      <th>1750</th>\n",
       "      <td>n01668</td>\n",
       "      <td>歴史民俗資料館</td>\n",
       "      <td>森町</td>\n",
       "      <td>34.839137</td>\n",
       "      <td>137.925535</td>\n",
       "      <td>22</td>\n",
       "      <td>22461</td>\n",
       "      <td>‐</td>\n",
       "      <td>2</td>\n",
       "    </tr>\n",
       "    <tr>\n",
       "      <th>1751</th>\n",
       "      <td>n01669</td>\n",
       "      <td>ザフォレストＣＣ</td>\n",
       "      <td>森町</td>\n",
       "      <td>34.849246</td>\n",
       "      <td>137.906595</td>\n",
       "      <td>22</td>\n",
       "      <td>22461</td>\n",
       "      <td>‐</td>\n",
       "      <td>4</td>\n",
       "    </tr>\n",
       "    <tr>\n",
       "      <th>1752</th>\n",
       "      <td>n01670</td>\n",
       "      <td>三木の里ＣＣ</td>\n",
       "      <td>森町</td>\n",
       "      <td>34.835768</td>\n",
       "      <td>137.886876</td>\n",
       "      <td>22</td>\n",
       "      <td>22461</td>\n",
       "      <td>‐</td>\n",
       "      <td>4</td>\n",
       "    </tr>\n",
       "    <tr>\n",
       "      <th>1753</th>\n",
       "      <td>n01671</td>\n",
       "      <td>森町商店街夏まつり</td>\n",
       "      <td>森町</td>\n",
       "      <td>34.835622</td>\n",
       "      <td>137.927128</td>\n",
       "      <td>22</td>\n",
       "      <td>22461</td>\n",
       "      <td>‐</td>\n",
       "      <td>1</td>\n",
       "    </tr>\n",
       "    <tr>\n",
       "      <th>1754</th>\n",
       "      <td>n01672</td>\n",
       "      <td>山名神社天王祭</td>\n",
       "      <td>森町</td>\n",
       "      <td>34.803989</td>\n",
       "      <td>137.918590</td>\n",
       "      <td>22</td>\n",
       "      <td>22461</td>\n",
       "      <td>‐</td>\n",
       "      <td>1</td>\n",
       "    </tr>\n",
       "  </tbody>\n",
       "</table>\n",
       "<p>1755 rows × 9 columns</p>\n",
       "</div>"
      ],
      "text/plain": [
       "              id       name             adress        lat         lon precode  \\\n",
       "0     lc_00000_0        白倉峡  浜松市天竜区龍山町大嶺1279-3  34.990775  137.780740      22   \n",
       "1     pa_00000_0  沼津御用邸記念公園     沼津市下香貫島郷2802-1  35.071364  138.873042      22   \n",
       "2     pa_00001_0        熱海城         熱海市曽我山1993  35.086431  139.078732      22   \n",
       "3     pa_00002_0     山中城跡公園            三島市山中新田  35.155694  138.993480      22   \n",
       "4     pa_00003_0      城ヶ崎海岸              伊東市富戸  34.891594  139.138785      22   \n",
       "...          ...        ...                ...        ...         ...     ...   \n",
       "1750      n01668    歴史民俗資料館                 森町  34.839137  137.925535      22   \n",
       "1751      n01669   ザフォレストＣＣ                 森町  34.849246  137.906595      22   \n",
       "1752      n01670     三木の里ＣＣ                 森町  34.835768  137.886876      22   \n",
       "1753      n01671  森町商店街夏まつり                 森町  34.835622  137.927128      22   \n",
       "1754      n01672    山名神社天王祭                 森町  34.803989  137.918590      22   \n",
       "\n",
       "     areacode category category_flag  \n",
       "0       22137        ‐             1  \n",
       "1       22203        ‐             2  \n",
       "2       22205        ‐             2  \n",
       "3       22206        ‐             2  \n",
       "4       22208        ‐             1  \n",
       "...       ...      ...           ...  \n",
       "1750    22461        ‐             2  \n",
       "1751    22461        ‐             4  \n",
       "1752    22461        ‐             4  \n",
       "1753    22461        ‐             1  \n",
       "1754    22461        ‐             1  \n",
       "\n",
       "[1755 rows x 9 columns]"
      ]
     },
     "execution_count": 20,
     "metadata": {},
     "output_type": "execute_result"
    }
   ],
   "source": [
    "pd_resources = pd.DataFrame(resources, columns=['id', 'name', 'adress', 'lat', 'lon', 'precode', 'areacode', 'category', 'category_flag'])\n",
    "pd_resources.to_csv('01_output/{}/resources.csv'.format(name))\n",
    "pd_resources.to_excel('01_output/{}/resources.xlsx'.format(name))\n",
    "pd_resources"
   ]
  },
  {
   "cell_type": "markdown",
   "metadata": {},
   "source": [
    "## メモ：XMLファイル修正点\n",
    "国土交通省のデータセットで一部エラーが出るファイルがあったため、下記の通り修正した。  \n",
    "■P12-14_12.xml  \n",
    "ファイルの最後に下記を追加  \n",
    "``` \n",
    "</ksj:TourismResource_Surface>\n",
    "</ksj:Dataset>\n",
    "```\n",
    "■P12-14_17.xml P12-14_21.xml P12-14_22.xml P12-14_28.xml    \n",
    "半角&を```&amp;```に変更  \n",
    "``` python\n",
    "file = open('01_input/P12-14_XX.xml')#XXは変えてください\n",
    "xml_text = file.read()\n",
    "file.close()\n",
    "xml_text = xml_text.replace('&', '&amp;')\n",
    "f = open('01_input/P12-14_XX_replace.xml', 'w')\n",
    "f.write(xml_text)\n",
    "f.close()\n",
    "``` \n",
    "■P12-14_10.xml  \n",
    "ファイル最後の以下を削除し\n",
    "``` \n",
    "<ksj:TourismResource_Surface gml:id=\"FL02_0044\">\n",
    "\t<ksj:turismResorceName>多々良沼公園</ksj:turismResorceName>\n",
    "\t<ksj:prefectureCode codeSpace=\"PrefectureCode.xml\">10</ksj:prefectureCode>\n",
    "\t<ksj:administartiveAreaCode cod\n",
    "``` \n",
    "以下を追加\n",
    "``` \n",
    "</ksj:Dataset>\n",
    "```"
   ]
  },
  {
   "cell_type": "code",
   "execution_count": null,
   "metadata": {},
   "outputs": [],
   "source": []
  }
 ],
 "metadata": {
  "kernelspec": {
   "display_name": "Python 3",
   "language": "python",
   "name": "python3"
  },
  "language_info": {
   "codemirror_mode": {
    "name": "ipython",
    "version": 3
   },
   "file_extension": ".py",
   "mimetype": "text/x-python",
   "name": "python",
   "nbconvert_exporter": "python",
   "pygments_lexer": "ipython3",
   "version": "3.8.3"
  }
 },
 "nbformat": 4,
 "nbformat_minor": 4
}

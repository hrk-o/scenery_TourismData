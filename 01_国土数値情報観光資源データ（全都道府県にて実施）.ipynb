{
 "cells": [
  {
   "cell_type": "markdown",
   "metadata": {},
   "source": [
    "## 国土数値情報 観光資源データ\n",
    "2023/04/25  \n",
    "データを取得し、分析しやすい形式に変換する  \n",
    "[国土交通省　観光資源データ - 国土数値情報](https://nlftp.mlit.go.jp/ksj/gml/datalist/KsjTmplt-P12-v2_2.html)"
   ]
  },
  {
   "cell_type": "markdown",
   "metadata": {},
   "source": [
    "### データクレンジング\n",
    "P12-14_22.xml：静岡県のデータ"
   ]
  },
  {
   "cell_type": "code",
   "execution_count": 1,
   "metadata": {},
   "outputs": [],
   "source": [
    "import pandas as pd\n",
    "import xmljson\n",
    "from lxml import etree\n",
    "import os\n",
    "import csv\n",
    "import collections"
   ]
  },
  {
   "cell_type": "code",
   "execution_count": 98,
   "metadata": {
    "deletable": false,
    "editable": false,
    "run_control": {
     "frozen": true
    }
   },
   "outputs": [
    {
     "name": "stdout",
     "output_type": "stream",
     "text": [
      "Collecting xmljson\n",
      "  Downloading xmljson-0.2.1-py2.py3-none-any.whl (10 kB)\n",
      "Installing collected packages: xmljson\n",
      "Successfully installed xmljson-0.2.1\n"
     ]
    }
   ],
   "source": [
    "!pip install xmljson"
   ]
  },
  {
   "cell_type": "code",
   "execution_count": 2,
   "metadata": {},
   "outputs": [],
   "source": [
    "def getCurve(name, xmldata):\n",
    "    #★観光資源（線）-面にあるIDがデータになっている　緯度経度\n",
    "    if isinstance(xmldata, collections.OrderedDict):\n",
    "        xml_id = xmldata['{http://www.opengis.net/gml/3.2}id']\n",
    "        if 'pc_' in xml_id:\n",
    "            xml_id = 'pa'+xml_id[2:]\n",
    "        savelatlon(name, xml_id, xmldata['{http://www.opengis.net/gml/3.2}segments']['{http://www.opengis.net/gml/3.2}LineStringSegment'])\n",
    "    else:\n",
    "        for i in range(len(xmldata)):\n",
    "            xml_id = xmldata[i]['{http://www.opengis.net/gml/3.2}id']\n",
    "            #print(xml_id)\n",
    "            if 'pc_' in xml_id:\n",
    "                xml_id = 'pa'+xml_id[2:]\n",
    "            savelatlon(name, xml_id, xmldata[i]['{http://www.opengis.net/gml/3.2}segments']['{http://www.opengis.net/gml/3.2}LineStringSegment'])"
   ]
  },
  {
   "cell_type": "code",
   "execution_count": 3,
   "metadata": {},
   "outputs": [],
   "source": [
    "def savelatlon(name, xml_id, xmldata):\n",
    "    if isinstance(xmldata, collections.OrderedDict):\n",
    "        data = xmldata['{http://www.opengis.net/gml/3.2}posList']\n",
    "        data = data.split('\\n')[1:-1]\n",
    "        data = [[data[i].split(' ')[0], data[i].split(' ')[1]] for i in range(len(data))]\n",
    "    else:\n",
    "        data = []\n",
    "        for i in range(len(xmldata)):\n",
    "            xdata = xmldata[i]['{http://www.opengis.net/gml/3.2}posList']\n",
    "            xdata = xdata.split('\\n')[1:-1]\n",
    "            data = data + [[xdata[i].split(' ')[0], xdata[i].split(' ')[1]] for i in range(len(xdata))]\n",
    "    f = open('01_output/{}/{}.csv'.format(name, xml_id), 'w')\n",
    "    writer = csv.writer(f)\n",
    "    writer.writerows(data)\n",
    "    f.close()"
   ]
  },
  {
   "cell_type": "code",
   "execution_count": 4,
   "metadata": {},
   "outputs": [],
   "source": [
    "def multicode(xmldata):\n",
    "    text = ''\n",
    "    if isinstance(xmldata, collections.OrderedDict):#len(xmldata) == 1\n",
    "        return xmldata['content']\n",
    "    else:\n",
    "        for i in range(len(xmldata)):\n",
    "            if i > 0:\n",
    "                text = text + ','\n",
    "            text = text + xmldata[i]['content']\n",
    "        return text"
   ]
  },
  {
   "cell_type": "code",
   "execution_count": 5,
   "metadata": {},
   "outputs": [],
   "source": [
    "def getResource(resources, name, xmldata):\n",
    "    if isinstance(xmldata, collections.OrderedDict):\n",
    "        xml_id = xmldata['{http://nlftp.mlit.go.jp/ksj/schemas/ksj-app}'+'{}'.format(getflag(xmldata['{http://www.opengis.net/gml/3.2}id']))]['{http://www.w3.org/1999/xlink}href'][1:]\n",
    "        latlogs = pd.read_csv('01_output/{}/{}.csv'.format(name, xml_id),header=None)\n",
    "        resources.append([xml_id,xmldata['{http://nlftp.mlit.go.jp/ksj/schemas/ksj-app}turismResorceName'],xmldata['{http://nlftp.mlit.go.jp/ksj/schemas/ksj-app}address'], latlogs.mean()[0], latlogs.mean()[1],multicode(xmldata['{http://nlftp.mlit.go.jp/ksj/schemas/ksj-app}prefectureCode']),multicode(xmldata['{http://nlftp.mlit.go.jp/ksj/schemas/ksj-app}administartiveAreaCode']),xmldata['{http://nlftp.mlit.go.jp/ksj/schemas/ksj-app}turismResorceKindName'],xmldata['{http://nlftp.mlit.go.jp/ksj/schemas/ksj-app}tourismResourceCategoryCode']])\n",
    "    else:\n",
    "        flag = getflag(xmldata[0]['{http://www.opengis.net/gml/3.2}id'])\n",
    "        for i in range(len(xmldata)):\n",
    "            xml_id = xmldata[i]['{http://nlftp.mlit.go.jp/ksj/schemas/ksj-app}'+'{}'.format(flag)]['{http://www.w3.org/1999/xlink}href'][1:]\n",
    "            latlogs = pd.read_csv('01_output/{}/{}.csv'.format(name, xml_id),header=None)\n",
    "            resources.append([xml_id,xmldata[i]['{http://nlftp.mlit.go.jp/ksj/schemas/ksj-app}turismResorceName'],xmldata[i]['{http://nlftp.mlit.go.jp/ksj/schemas/ksj-app}address'], latlogs.mean()[0], latlogs.mean()[1],multicode(xmldata[i]['{http://nlftp.mlit.go.jp/ksj/schemas/ksj-app}prefectureCode']),multicode(xmldata[i]['{http://nlftp.mlit.go.jp/ksj/schemas/ksj-app}administartiveAreaCode']),xmldata[i]['{http://nlftp.mlit.go.jp/ksj/schemas/ksj-app}turismResorceKindName'],xmldata[i]['{http://nlftp.mlit.go.jp/ksj/schemas/ksj-app}tourismResourceCategoryCode']])\n",
    "            #print([xml_id,xmldata[i]['{http://nlftp.mlit.go.jp/ksj/schemas/ksj-app}turismResorceName'],xmldata[i]['{http://nlftp.mlit.go.jp/ksj/schemas/ksj-app}address'], latlogs.mean()[0], latlogs.mean()[1],xmldata[i]['{http://nlftp.mlit.go.jp/ksj/schemas/ksj-app}prefectureCode']['content'],xmldata[i]['{http://nlftp.mlit.go.jp/ksj/schemas/ksj-app}administartiveAreaCode']['content'],xmldata[i]['{http://nlftp.mlit.go.jp/ksj/schemas/ksj-app}turismResorceKindName'],xmldata[i]['{http://nlftp.mlit.go.jp/ksj/schemas/ksj-app}tourismResourceCategoryCode']])\n",
    "    return resources"
   ]
  },
  {
   "cell_type": "code",
   "execution_count": 6,
   "metadata": {},
   "outputs": [],
   "source": [
    "def getflag(gmlid):\n",
    "    if 'FL03_' in gmlid:\n",
    "        flag = 'location'\n",
    "    elif 'FL02_' in gmlid:\n",
    "        flag = 'bounds'\n",
    "    #elif 'FL04_' in gmlid:\n",
    "    #    flag = 'position'\n",
    "    return flag"
   ]
  },
  {
   "cell_type": "code",
   "execution_count": 7,
   "metadata": {},
   "outputs": [],
   "source": [
    "def getPointLatlon(pos):\n",
    "    if isinstance(pos, list):\n",
    "        plist = [[],[]]\n",
    "        for i in range(len(pos)):\n",
    "            plist[0].append(pos[i].split(' ')[0])\n",
    "            plist[1].append(pos[i].split(' ')[1])\n",
    "        return plist\n",
    "    else:\n",
    "        return [float(s) for s in pos.split(' ')]"
   ]
  },
  {
   "cell_type": "code",
   "execution_count": 8,
   "metadata": {},
   "outputs": [],
   "source": [
    "def getResourcePoint(resources, xmldata1, xmldata2):\n",
    "    dict_points = {}\n",
    "    for i in range(len(xmldata1)):\n",
    "        dict_points[xmldata1[i]['{http://www.opengis.net/gml/3.2}id']] = getPointLatlon(xmldata1[i]['{http://www.opengis.net/gml/3.2}pos'])\n",
    "    #print(dict_points)\n",
    "    for i in range(len(xmldata2)):\n",
    "        xml_id = xmldata2[i]['{http://nlftp.mlit.go.jp/ksj/schemas/ksj-app}position']['{http://www.w3.org/1999/xlink}href'][1:]\n",
    "        if isinstance(dict_points[xml_id][0], list):\n",
    "            for j in range(len(dict_points[xml_id][0])):\n",
    "                resources.append([xml_id, xmldata2[i]['{http://nlftp.mlit.go.jp/ksj/schemas/ksj-app}turismResorceName'], xmldata2[i]['{http://nlftp.mlit.go.jp/ksj/schemas/ksj-app}address'], dict_points[xml_id][0][j], dict_points[xml_id][1][j],multicode(xmldata2[i]['{http://nlftp.mlit.go.jp/ksj/schemas/ksj-app}prefectureCode']),multicode(xmldata2[i]['{http://nlftp.mlit.go.jp/ksj/schemas/ksj-app}administartiveAreaCode']),xmldata2[i]['{http://nlftp.mlit.go.jp/ksj/schemas/ksj-app}turismResorceKindName'],xmldata2[i]['{http://nlftp.mlit.go.jp/ksj/schemas/ksj-app}tourismResourceCategoryCode']])\n",
    "        else:\n",
    "            resources.append([xml_id, xmldata2[i]['{http://nlftp.mlit.go.jp/ksj/schemas/ksj-app}turismResorceName'], xmldata2[i]['{http://nlftp.mlit.go.jp/ksj/schemas/ksj-app}address'], dict_points[xml_id][0], dict_points[xml_id][1],multicode(xmldata2[i]['{http://nlftp.mlit.go.jp/ksj/schemas/ksj-app}prefectureCode']),multicode(xmldata2[i]['{http://nlftp.mlit.go.jp/ksj/schemas/ksj-app}administartiveAreaCode']),xmldata2[i]['{http://nlftp.mlit.go.jp/ksj/schemas/ksj-app}turismResorceKindName'],xmldata2[i]['{http://nlftp.mlit.go.jp/ksj/schemas/ksj-app}tourismResourceCategoryCode']])\n",
    "    return resources"
   ]
  },
  {
   "cell_type": "code",
   "execution_count": 9,
   "metadata": {},
   "outputs": [
    {
     "name": "stdout",
     "output_type": "stream",
     "text": [
      "name P12-14_01\n"
     ]
    },
    {
     "name": "stderr",
     "output_type": "stream",
     "text": [
      "<ipython-input-9-3746bac15655>:49: UserWarning: Pandas requires version '1.4.3' or newer of 'xlsxwriter' (version '1.2.9' currently installed).\n",
      "  pd_resources.to_excel('01_output/{}/resources.xlsx'.format(name))\n"
     ]
    },
    {
     "name": "stdout",
     "output_type": "stream",
     "text": [
      "name P12-14_02\n"
     ]
    },
    {
     "name": "stderr",
     "output_type": "stream",
     "text": [
      "<ipython-input-9-3746bac15655>:49: UserWarning: Pandas requires version '1.4.3' or newer of 'xlsxwriter' (version '1.2.9' currently installed).\n",
      "  pd_resources.to_excel('01_output/{}/resources.xlsx'.format(name))\n"
     ]
    },
    {
     "name": "stdout",
     "output_type": "stream",
     "text": [
      "name P12-14_03\n"
     ]
    },
    {
     "name": "stderr",
     "output_type": "stream",
     "text": [
      "<ipython-input-9-3746bac15655>:49: UserWarning: Pandas requires version '1.4.3' or newer of 'xlsxwriter' (version '1.2.9' currently installed).\n",
      "  pd_resources.to_excel('01_output/{}/resources.xlsx'.format(name))\n",
      "<ipython-input-9-3746bac15655>:49: UserWarning: Pandas requires version '1.4.3' or newer of 'xlsxwriter' (version '1.2.9' currently installed).\n",
      "  pd_resources.to_excel('01_output/{}/resources.xlsx'.format(name))\n"
     ]
    },
    {
     "name": "stdout",
     "output_type": "stream",
     "text": [
      "name P12-14_04\n",
      "name P12-14_05\n"
     ]
    },
    {
     "name": "stderr",
     "output_type": "stream",
     "text": [
      "<ipython-input-9-3746bac15655>:49: UserWarning: Pandas requires version '1.4.3' or newer of 'xlsxwriter' (version '1.2.9' currently installed).\n",
      "  pd_resources.to_excel('01_output/{}/resources.xlsx'.format(name))\n",
      "<ipython-input-9-3746bac15655>:49: UserWarning: Pandas requires version '1.4.3' or newer of 'xlsxwriter' (version '1.2.9' currently installed).\n",
      "  pd_resources.to_excel('01_output/{}/resources.xlsx'.format(name))\n"
     ]
    },
    {
     "name": "stdout",
     "output_type": "stream",
     "text": [
      "name P12-14_06\n",
      "name P12-14_07\n",
      "name P12-14_08\n"
     ]
    },
    {
     "name": "stderr",
     "output_type": "stream",
     "text": [
      "<ipython-input-9-3746bac15655>:49: UserWarning: Pandas requires version '1.4.3' or newer of 'xlsxwriter' (version '1.2.9' currently installed).\n",
      "  pd_resources.to_excel('01_output/{}/resources.xlsx'.format(name))\n",
      "<ipython-input-9-3746bac15655>:49: UserWarning: Pandas requires version '1.4.3' or newer of 'xlsxwriter' (version '1.2.9' currently installed).\n",
      "  pd_resources.to_excel('01_output/{}/resources.xlsx'.format(name))\n"
     ]
    },
    {
     "name": "stdout",
     "output_type": "stream",
     "text": [
      "name P12-14_09\n",
      "name P12-14_10\n"
     ]
    },
    {
     "name": "stderr",
     "output_type": "stream",
     "text": [
      "<ipython-input-9-3746bac15655>:49: UserWarning: Pandas requires version '1.4.3' or newer of 'xlsxwriter' (version '1.2.9' currently installed).\n",
      "  pd_resources.to_excel('01_output/{}/resources.xlsx'.format(name))\n",
      "<ipython-input-9-3746bac15655>:49: UserWarning: Pandas requires version '1.4.3' or newer of 'xlsxwriter' (version '1.2.9' currently installed).\n",
      "  pd_resources.to_excel('01_output/{}/resources.xlsx'.format(name))\n"
     ]
    },
    {
     "name": "stdout",
     "output_type": "stream",
     "text": [
      "name P12-14_11\n"
     ]
    },
    {
     "name": "stderr",
     "output_type": "stream",
     "text": [
      "<ipython-input-9-3746bac15655>:49: UserWarning: Pandas requires version '1.4.3' or newer of 'xlsxwriter' (version '1.2.9' currently installed).\n",
      "  pd_resources.to_excel('01_output/{}/resources.xlsx'.format(name))\n"
     ]
    },
    {
     "name": "stdout",
     "output_type": "stream",
     "text": [
      "name P12-14_12\n",
      "name P12-14_13\n"
     ]
    },
    {
     "name": "stderr",
     "output_type": "stream",
     "text": [
      "<ipython-input-9-3746bac15655>:49: UserWarning: Pandas requires version '1.4.3' or newer of 'xlsxwriter' (version '1.2.9' currently installed).\n",
      "  pd_resources.to_excel('01_output/{}/resources.xlsx'.format(name))\n",
      "<ipython-input-9-3746bac15655>:49: UserWarning: Pandas requires version '1.4.3' or newer of 'xlsxwriter' (version '1.2.9' currently installed).\n",
      "  pd_resources.to_excel('01_output/{}/resources.xlsx'.format(name))\n",
      "<ipython-input-9-3746bac15655>:49: UserWarning: Pandas requires version '1.4.3' or newer of 'xlsxwriter' (version '1.2.9' currently installed).\n",
      "  pd_resources.to_excel('01_output/{}/resources.xlsx'.format(name))\n"
     ]
    },
    {
     "name": "stdout",
     "output_type": "stream",
     "text": [
      "name P12-14_14\n",
      "name P12-14_15\n"
     ]
    },
    {
     "name": "stderr",
     "output_type": "stream",
     "text": [
      "<ipython-input-9-3746bac15655>:49: UserWarning: Pandas requires version '1.4.3' or newer of 'xlsxwriter' (version '1.2.9' currently installed).\n",
      "  pd_resources.to_excel('01_output/{}/resources.xlsx'.format(name))\n"
     ]
    },
    {
     "name": "stdout",
     "output_type": "stream",
     "text": [
      "name P12-14_16\n",
      "name P12-14_17\n"
     ]
    },
    {
     "name": "stderr",
     "output_type": "stream",
     "text": [
      "<ipython-input-9-3746bac15655>:49: UserWarning: Pandas requires version '1.4.3' or newer of 'xlsxwriter' (version '1.2.9' currently installed).\n",
      "  pd_resources.to_excel('01_output/{}/resources.xlsx'.format(name))\n",
      "<ipython-input-9-3746bac15655>:49: UserWarning: Pandas requires version '1.4.3' or newer of 'xlsxwriter' (version '1.2.9' currently installed).\n",
      "  pd_resources.to_excel('01_output/{}/resources.xlsx'.format(name))\n",
      "<ipython-input-9-3746bac15655>:49: UserWarning: Pandas requires version '1.4.3' or newer of 'xlsxwriter' (version '1.2.9' currently installed).\n",
      "  pd_resources.to_excel('01_output/{}/resources.xlsx'.format(name))\n"
     ]
    },
    {
     "name": "stdout",
     "output_type": "stream",
     "text": [
      "name P12-14_18\n",
      "name P12-14_19\n",
      "name P12-14_20\n"
     ]
    },
    {
     "name": "stderr",
     "output_type": "stream",
     "text": [
      "<ipython-input-9-3746bac15655>:49: UserWarning: Pandas requires version '1.4.3' or newer of 'xlsxwriter' (version '1.2.9' currently installed).\n",
      "  pd_resources.to_excel('01_output/{}/resources.xlsx'.format(name))\n",
      "<ipython-input-9-3746bac15655>:49: UserWarning: Pandas requires version '1.4.3' or newer of 'xlsxwriter' (version '1.2.9' currently installed).\n",
      "  pd_resources.to_excel('01_output/{}/resources.xlsx'.format(name))\n"
     ]
    },
    {
     "name": "stdout",
     "output_type": "stream",
     "text": [
      "name P12-14_21\n"
     ]
    },
    {
     "name": "stderr",
     "output_type": "stream",
     "text": [
      "<ipython-input-9-3746bac15655>:49: UserWarning: Pandas requires version '1.4.3' or newer of 'xlsxwriter' (version '1.2.9' currently installed).\n",
      "  pd_resources.to_excel('01_output/{}/resources.xlsx'.format(name))\n"
     ]
    },
    {
     "name": "stdout",
     "output_type": "stream",
     "text": [
      "name P12-14_22\n"
     ]
    },
    {
     "name": "stderr",
     "output_type": "stream",
     "text": [
      "<ipython-input-9-3746bac15655>:49: UserWarning: Pandas requires version '1.4.3' or newer of 'xlsxwriter' (version '1.2.9' currently installed).\n",
      "  pd_resources.to_excel('01_output/{}/resources.xlsx'.format(name))\n"
     ]
    },
    {
     "name": "stdout",
     "output_type": "stream",
     "text": [
      "name P12-14_23\n",
      "name P12-14_24\n"
     ]
    },
    {
     "name": "stderr",
     "output_type": "stream",
     "text": [
      "<ipython-input-9-3746bac15655>:49: UserWarning: Pandas requires version '1.4.3' or newer of 'xlsxwriter' (version '1.2.9' currently installed).\n",
      "  pd_resources.to_excel('01_output/{}/resources.xlsx'.format(name))\n",
      "<ipython-input-9-3746bac15655>:49: UserWarning: Pandas requires version '1.4.3' or newer of 'xlsxwriter' (version '1.2.9' currently installed).\n",
      "  pd_resources.to_excel('01_output/{}/resources.xlsx'.format(name))\n"
     ]
    },
    {
     "name": "stdout",
     "output_type": "stream",
     "text": [
      "name P12-14_25\n"
     ]
    },
    {
     "name": "stderr",
     "output_type": "stream",
     "text": [
      "<ipython-input-9-3746bac15655>:49: UserWarning: Pandas requires version '1.4.3' or newer of 'xlsxwriter' (version '1.2.9' currently installed).\n",
      "  pd_resources.to_excel('01_output/{}/resources.xlsx'.format(name))\n"
     ]
    },
    {
     "name": "stdout",
     "output_type": "stream",
     "text": [
      "name P12-14_26\n"
     ]
    },
    {
     "name": "stderr",
     "output_type": "stream",
     "text": [
      "<ipython-input-9-3746bac15655>:49: UserWarning: Pandas requires version '1.4.3' or newer of 'xlsxwriter' (version '1.2.9' currently installed).\n",
      "  pd_resources.to_excel('01_output/{}/resources.xlsx'.format(name))\n"
     ]
    },
    {
     "name": "stdout",
     "output_type": "stream",
     "text": [
      "name P12-14_27\n",
      "name P12-14_28\n"
     ]
    },
    {
     "name": "stderr",
     "output_type": "stream",
     "text": [
      "<ipython-input-9-3746bac15655>:49: UserWarning: Pandas requires version '1.4.3' or newer of 'xlsxwriter' (version '1.2.9' currently installed).\n",
      "  pd_resources.to_excel('01_output/{}/resources.xlsx'.format(name))\n",
      "<ipython-input-9-3746bac15655>:49: UserWarning: Pandas requires version '1.4.3' or newer of 'xlsxwriter' (version '1.2.9' currently installed).\n",
      "  pd_resources.to_excel('01_output/{}/resources.xlsx'.format(name))\n"
     ]
    },
    {
     "name": "stdout",
     "output_type": "stream",
     "text": [
      "name P12-14_29\n"
     ]
    },
    {
     "name": "stderr",
     "output_type": "stream",
     "text": [
      "<ipython-input-9-3746bac15655>:49: UserWarning: Pandas requires version '1.4.3' or newer of 'xlsxwriter' (version '1.2.9' currently installed).\n",
      "  pd_resources.to_excel('01_output/{}/resources.xlsx'.format(name))\n"
     ]
    },
    {
     "name": "stdout",
     "output_type": "stream",
     "text": [
      "name P12-14_30\n",
      "name P12-14_31\n"
     ]
    },
    {
     "name": "stderr",
     "output_type": "stream",
     "text": [
      "<ipython-input-9-3746bac15655>:49: UserWarning: Pandas requires version '1.4.3' or newer of 'xlsxwriter' (version '1.2.9' currently installed).\n",
      "  pd_resources.to_excel('01_output/{}/resources.xlsx'.format(name))\n",
      "<ipython-input-9-3746bac15655>:49: UserWarning: Pandas requires version '1.4.3' or newer of 'xlsxwriter' (version '1.2.9' currently installed).\n",
      "  pd_resources.to_excel('01_output/{}/resources.xlsx'.format(name))\n"
     ]
    },
    {
     "name": "stdout",
     "output_type": "stream",
     "text": [
      "name P12-14_32\n"
     ]
    },
    {
     "name": "stderr",
     "output_type": "stream",
     "text": [
      "<ipython-input-9-3746bac15655>:49: UserWarning: Pandas requires version '1.4.3' or newer of 'xlsxwriter' (version '1.2.9' currently installed).\n",
      "  pd_resources.to_excel('01_output/{}/resources.xlsx'.format(name))\n"
     ]
    },
    {
     "name": "stdout",
     "output_type": "stream",
     "text": [
      "name P12-14_33\n"
     ]
    },
    {
     "name": "stderr",
     "output_type": "stream",
     "text": [
      "<ipython-input-9-3746bac15655>:49: UserWarning: Pandas requires version '1.4.3' or newer of 'xlsxwriter' (version '1.2.9' currently installed).\n",
      "  pd_resources.to_excel('01_output/{}/resources.xlsx'.format(name))\n"
     ]
    },
    {
     "name": "stdout",
     "output_type": "stream",
     "text": [
      "name P12-14_34\n",
      "name P12-14_35\n"
     ]
    },
    {
     "name": "stderr",
     "output_type": "stream",
     "text": [
      "<ipython-input-9-3746bac15655>:49: UserWarning: Pandas requires version '1.4.3' or newer of 'xlsxwriter' (version '1.2.9' currently installed).\n",
      "  pd_resources.to_excel('01_output/{}/resources.xlsx'.format(name))\n",
      "<ipython-input-9-3746bac15655>:49: UserWarning: Pandas requires version '1.4.3' or newer of 'xlsxwriter' (version '1.2.9' currently installed).\n",
      "  pd_resources.to_excel('01_output/{}/resources.xlsx'.format(name))\n",
      "<ipython-input-9-3746bac15655>:49: UserWarning: Pandas requires version '1.4.3' or newer of 'xlsxwriter' (version '1.2.9' currently installed).\n",
      "  pd_resources.to_excel('01_output/{}/resources.xlsx'.format(name))\n"
     ]
    },
    {
     "name": "stdout",
     "output_type": "stream",
     "text": [
      "name P12-14_36\n",
      "name P12-14_37\n",
      "name P12-14_38\n"
     ]
    },
    {
     "name": "stderr",
     "output_type": "stream",
     "text": [
      "<ipython-input-9-3746bac15655>:49: UserWarning: Pandas requires version '1.4.3' or newer of 'xlsxwriter' (version '1.2.9' currently installed).\n",
      "  pd_resources.to_excel('01_output/{}/resources.xlsx'.format(name))\n",
      "<ipython-input-9-3746bac15655>:49: UserWarning: Pandas requires version '1.4.3' or newer of 'xlsxwriter' (version '1.2.9' currently installed).\n",
      "  pd_resources.to_excel('01_output/{}/resources.xlsx'.format(name))\n"
     ]
    },
    {
     "name": "stdout",
     "output_type": "stream",
     "text": [
      "name P12-14_39\n",
      "name P12-14_40\n"
     ]
    },
    {
     "name": "stderr",
     "output_type": "stream",
     "text": [
      "<ipython-input-9-3746bac15655>:49: UserWarning: Pandas requires version '1.4.3' or newer of 'xlsxwriter' (version '1.2.9' currently installed).\n",
      "  pd_resources.to_excel('01_output/{}/resources.xlsx'.format(name))\n",
      "<ipython-input-9-3746bac15655>:49: UserWarning: Pandas requires version '1.4.3' or newer of 'xlsxwriter' (version '1.2.9' currently installed).\n",
      "  pd_resources.to_excel('01_output/{}/resources.xlsx'.format(name))\n"
     ]
    },
    {
     "name": "stdout",
     "output_type": "stream",
     "text": [
      "name P12-14_41\n",
      "name P12-14_42\n"
     ]
    },
    {
     "name": "stderr",
     "output_type": "stream",
     "text": [
      "<ipython-input-9-3746bac15655>:49: UserWarning: Pandas requires version '1.4.3' or newer of 'xlsxwriter' (version '1.2.9' currently installed).\n",
      "  pd_resources.to_excel('01_output/{}/resources.xlsx'.format(name))\n",
      "<ipython-input-9-3746bac15655>:49: UserWarning: Pandas requires version '1.4.3' or newer of 'xlsxwriter' (version '1.2.9' currently installed).\n",
      "  pd_resources.to_excel('01_output/{}/resources.xlsx'.format(name))\n"
     ]
    },
    {
     "name": "stdout",
     "output_type": "stream",
     "text": [
      "name P12-14_43\n"
     ]
    },
    {
     "name": "stderr",
     "output_type": "stream",
     "text": [
      "<ipython-input-9-3746bac15655>:49: UserWarning: Pandas requires version '1.4.3' or newer of 'xlsxwriter' (version '1.2.9' currently installed).\n",
      "  pd_resources.to_excel('01_output/{}/resources.xlsx'.format(name))\n"
     ]
    },
    {
     "name": "stdout",
     "output_type": "stream",
     "text": [
      "name P12-14_44\n",
      "name P12-14_45\n"
     ]
    },
    {
     "name": "stderr",
     "output_type": "stream",
     "text": [
      "<ipython-input-9-3746bac15655>:49: UserWarning: Pandas requires version '1.4.3' or newer of 'xlsxwriter' (version '1.2.9' currently installed).\n",
      "  pd_resources.to_excel('01_output/{}/resources.xlsx'.format(name))\n",
      "<ipython-input-9-3746bac15655>:49: UserWarning: Pandas requires version '1.4.3' or newer of 'xlsxwriter' (version '1.2.9' currently installed).\n",
      "  pd_resources.to_excel('01_output/{}/resources.xlsx'.format(name))\n",
      "<ipython-input-9-3746bac15655>:49: UserWarning: Pandas requires version '1.4.3' or newer of 'xlsxwriter' (version '1.2.9' currently installed).\n",
      "  pd_resources.to_excel('01_output/{}/resources.xlsx'.format(name))\n"
     ]
    },
    {
     "name": "stdout",
     "output_type": "stream",
     "text": [
      "name P12-14_46\n",
      "name P12-14_47\n"
     ]
    },
    {
     "name": "stderr",
     "output_type": "stream",
     "text": [
      "<ipython-input-9-3746bac15655>:49: UserWarning: Pandas requires version '1.4.3' or newer of 'xlsxwriter' (version '1.2.9' currently installed).\n",
      "  pd_resources.to_excel('01_output/{}/resources.xlsx'.format(name))\n",
      "<ipython-input-9-3746bac15655>:55: UserWarning: Pandas requires version '1.4.3' or newer of 'xlsxwriter' (version '1.2.9' currently installed).\n",
      "  pd_resources.to_excel('01_output/resources.xlsx'.format(name))\n"
     ]
    },
    {
     "data": {
      "text/html": [
       "<div>\n",
       "<style scoped>\n",
       "    .dataframe tbody tr th:only-of-type {\n",
       "        vertical-align: middle;\n",
       "    }\n",
       "\n",
       "    .dataframe tbody tr th {\n",
       "        vertical-align: top;\n",
       "    }\n",
       "\n",
       "    .dataframe thead th {\n",
       "        text-align: right;\n",
       "    }\n",
       "</style>\n",
       "<table border=\"1\" class=\"dataframe\">\n",
       "  <thead>\n",
       "    <tr style=\"text-align: right;\">\n",
       "      <th></th>\n",
       "      <th>id</th>\n",
       "      <th>name</th>\n",
       "      <th>adress</th>\n",
       "      <th>lat</th>\n",
       "      <th>lon</th>\n",
       "      <th>precode</th>\n",
       "      <th>areacode</th>\n",
       "      <th>category</th>\n",
       "      <th>category_flag</th>\n",
       "    </tr>\n",
       "  </thead>\n",
       "  <tbody>\n",
       "    <tr>\n",
       "      <th>0</th>\n",
       "      <td>lc_00000_0</td>\n",
       "      <td>層雲峡</td>\n",
       "      <td>上川町</td>\n",
       "      <td>43.729559</td>\n",
       "      <td>142.962962</td>\n",
       "      <td>01</td>\n",
       "      <td>01457</td>\n",
       "      <td>河川・峡谷</td>\n",
       "      <td>-1</td>\n",
       "    </tr>\n",
       "    <tr>\n",
       "      <th>1</th>\n",
       "      <td>lc_00001_0</td>\n",
       "      <td>天塩川</td>\n",
       "      <td>音威子府村　および　中川町　および　天塩町　および　幌延町</td>\n",
       "      <td>44.861605</td>\n",
       "      <td>141.982589</td>\n",
       "      <td>01</td>\n",
       "      <td>01470,01471,01487,01520</td>\n",
       "      <td>河川・峡谷</td>\n",
       "      <td>-1</td>\n",
       "    </tr>\n",
       "    <tr>\n",
       "      <th>2</th>\n",
       "      <td>lc_00002_0</td>\n",
       "      <td>石狩川</td>\n",
       "      <td>札幌市北区　および　札幌市東区　および　石狩市　および　当別町</td>\n",
       "      <td>43.216942</td>\n",
       "      <td>141.382275</td>\n",
       "      <td>01</td>\n",
       "      <td>01102,01103,01235,01303</td>\n",
       "      <td>河川・峡谷</td>\n",
       "      <td>-1</td>\n",
       "    </tr>\n",
       "    <tr>\n",
       "      <th>3</th>\n",
       "      <td>pa_00000_0</td>\n",
       "      <td>サロベツ原野</td>\n",
       "      <td>豊富町　および　幌延町</td>\n",
       "      <td>45.133595</td>\n",
       "      <td>141.673084</td>\n",
       "      <td>01</td>\n",
       "      <td>01516,01520</td>\n",
       "      <td>高原・湿原・原野</td>\n",
       "      <td>-1</td>\n",
       "    </tr>\n",
       "    <tr>\n",
       "      <th>4</th>\n",
       "      <td>pa_00001_0</td>\n",
       "      <td>霧多布湿原</td>\n",
       "      <td>浜中町</td>\n",
       "      <td>43.093102</td>\n",
       "      <td>145.064205</td>\n",
       "      <td>01</td>\n",
       "      <td>01663</td>\n",
       "      <td>高原・湿原・原野</td>\n",
       "      <td>-1</td>\n",
       "    </tr>\n",
       "    <tr>\n",
       "      <th>...</th>\n",
       "      <td>...</td>\n",
       "      <td>...</td>\n",
       "      <td>...</td>\n",
       "      <td>...</td>\n",
       "      <td>...</td>\n",
       "      <td>...</td>\n",
       "      <td>...</td>\n",
       "      <td>...</td>\n",
       "      <td>...</td>\n",
       "    </tr>\n",
       "    <tr>\n",
       "      <th>18157</th>\n",
       "      <td>n00156</td>\n",
       "      <td>西表島</td>\n",
       "      <td>竹富町</td>\n",
       "      <td>24.332775</td>\n",
       "      <td>123.815205</td>\n",
       "      <td>47</td>\n",
       "      <td>47381</td>\n",
       "      <td>‐</td>\n",
       "      <td>1</td>\n",
       "    </tr>\n",
       "    <tr>\n",
       "      <th>18158</th>\n",
       "      <td>n00157</td>\n",
       "      <td>小浜島</td>\n",
       "      <td>竹富町</td>\n",
       "      <td>24.341647</td>\n",
       "      <td>123.980528</td>\n",
       "      <td>47</td>\n",
       "      <td>47381</td>\n",
       "      <td>‐</td>\n",
       "      <td>1</td>\n",
       "    </tr>\n",
       "    <tr>\n",
       "      <th>18159</th>\n",
       "      <td>n00158</td>\n",
       "      <td>黒島</td>\n",
       "      <td>竹富町</td>\n",
       "      <td>24.236759</td>\n",
       "      <td>124.011932</td>\n",
       "      <td>47</td>\n",
       "      <td>47381</td>\n",
       "      <td>‐</td>\n",
       "      <td>1</td>\n",
       "    </tr>\n",
       "    <tr>\n",
       "      <th>18160</th>\n",
       "      <td>n00159</td>\n",
       "      <td>波照間島</td>\n",
       "      <td>竹富町</td>\n",
       "      <td>24.05975</td>\n",
       "      <td>123.783813</td>\n",
       "      <td>47</td>\n",
       "      <td>47381</td>\n",
       "      <td>‐</td>\n",
       "      <td>1</td>\n",
       "    </tr>\n",
       "    <tr>\n",
       "      <th>18161</th>\n",
       "      <td>n00160</td>\n",
       "      <td>与那国島</td>\n",
       "      <td>与那国町</td>\n",
       "      <td>24.455714</td>\n",
       "      <td>122.989799</td>\n",
       "      <td>47</td>\n",
       "      <td>47382</td>\n",
       "      <td>‐</td>\n",
       "      <td>1</td>\n",
       "    </tr>\n",
       "  </tbody>\n",
       "</table>\n",
       "<p>18162 rows × 9 columns</p>\n",
       "</div>"
      ],
      "text/plain": [
       "               id    name                           adress        lat  \\\n",
       "0      lc_00000_0     層雲峡                              上川町  43.729559   \n",
       "1      lc_00001_0     天塩川    音威子府村　および　中川町　および　天塩町　および　幌延町  44.861605   \n",
       "2      lc_00002_0     石狩川  札幌市北区　および　札幌市東区　および　石狩市　および　当別町  43.216942   \n",
       "3      pa_00000_0  サロベツ原野                      豊富町　および　幌延町  45.133595   \n",
       "4      pa_00001_0   霧多布湿原                              浜中町  43.093102   \n",
       "...           ...     ...                              ...        ...   \n",
       "18157      n00156     西表島                              竹富町  24.332775   \n",
       "18158      n00157     小浜島                              竹富町  24.341647   \n",
       "18159      n00158      黒島                              竹富町  24.236759   \n",
       "18160      n00159    波照間島                              竹富町   24.05975   \n",
       "18161      n00160    与那国島                             与那国町  24.455714   \n",
       "\n",
       "              lon precode                 areacode  category category_flag  \n",
       "0      142.962962      01                    01457     河川・峡谷            -1  \n",
       "1      141.982589      01  01470,01471,01487,01520     河川・峡谷            -1  \n",
       "2      141.382275      01  01102,01103,01235,01303     河川・峡谷            -1  \n",
       "3      141.673084      01              01516,01520  高原・湿原・原野            -1  \n",
       "4      145.064205      01                    01663  高原・湿原・原野            -1  \n",
       "...           ...     ...                      ...       ...           ...  \n",
       "18157  123.815205      47                    47381         ‐             1  \n",
       "18158  123.980528      47                    47381         ‐             1  \n",
       "18159  124.011932      47                    47381         ‐             1  \n",
       "18160  123.783813      47                    47381         ‐             1  \n",
       "18161  122.989799      47                    47382         ‐             1  \n",
       "\n",
       "[18162 rows x 9 columns]"
      ]
     },
     "execution_count": 9,
     "metadata": {},
     "output_type": "execute_result"
    }
   ],
   "source": [
    "#xmlデータを読み込みます\n",
    "allresources = []\n",
    "for prenum in range(1,48):\n",
    "    resources = []\n",
    "    name = 'P12-14_{:02}'.format(prenum)\n",
    "    if prenum in [10,12,17,21,22,28]:\n",
    "        xml_tree = etree.parse('01_input/{}_replace.xml'.format(name))\n",
    "    else:\n",
    "        xml_tree = etree.parse('01_input/{}.xml'.format(name))\n",
    "    # すべてのタグの取得\n",
    "    xml_root = xml_tree.getroot()\n",
    "    # xmlデータをdict型に変換\n",
    "    xml_dict = xmljson.yahoo.data(xml_root)\n",
    "    \n",
    "    if not os.path.exists('01_output/{}'.format(name)):\n",
    "        # ディレクトリが存在しない場合、ディレクトリを作成する\n",
    "        os.makedirs('01_output/{}'.format(name))\n",
    "        \n",
    "    xml_keys = xml_dict['{http://nlftp.mlit.go.jp/ksj/schemas/ksj-app}Dataset'].keys()\n",
    "    print('name', name)\n",
    "    #print('xml_keys', xml_keys)\n",
    "    \n",
    "    #データセットid\n",
    "    #xml_dict['{http://nlftp.mlit.go.jp/ksj/schemas/ksj-app}Dataset']['{http://www.opengis.net/gml/3.2}id']\n",
    "    \n",
    "    #データセット名\n",
    "    #xml_dict['{http://nlftp.mlit.go.jp/ksj/schemas/ksj-app}Dataset']['{http://www.opengis.net/gml/3.2}description']\n",
    "    \n",
    "    #データセット基本情報\n",
    "    #xml_dict['{http://nlftp.mlit.go.jp/ksj/schemas/ksj-app}Dataset']['{http://www.opengis.net/gml/3.2}boundedBy']\n",
    "    \n",
    "    #面と線の緯度経度情報の取得\n",
    "    getCurve(name, xml_dict['{http://nlftp.mlit.go.jp/ksj/schemas/ksj-app}Dataset']['{http://www.opengis.net/gml/3.2}Curve'])\n",
    "    \n",
    "    #観光資源（線）\n",
    "    if '{http://nlftp.mlit.go.jp/ksj/schemas/ksj-app}TourismResource_Line' in xml_keys:\n",
    "        resources = getResource(resources, name, xml_dict['{http://nlftp.mlit.go.jp/ksj/schemas/ksj-app}Dataset']['{http://nlftp.mlit.go.jp/ksj/schemas/ksj-app}TourismResource_Line'])\n",
    "        resources\n",
    "    #観光資源（面）に関する情報 名前、住所\n",
    "    if '{http://nlftp.mlit.go.jp/ksj/schemas/ksj-app}TourismResource_Surface' in xml_keys:\n",
    "        resources = getResource(resources, name, xml_dict['{http://nlftp.mlit.go.jp/ksj/schemas/ksj-app}Dataset']['{http://nlftp.mlit.go.jp/ksj/schemas/ksj-app}TourismResource_Surface'])\n",
    "        resources\n",
    "    \n",
    "    if '{http://nlftp.mlit.go.jp/ksj/schemas/ksj-app}TourismResource_Point' in xml_keys:\n",
    "        resources = getResourcePoint(resources, xml_dict['{http://nlftp.mlit.go.jp/ksj/schemas/ksj-app}Dataset']['{http://www.opengis.net/gml/3.2}Point'], xml_dict['{http://nlftp.mlit.go.jp/ksj/schemas/ksj-app}Dataset']['{http://nlftp.mlit.go.jp/ksj/schemas/ksj-app}TourismResource_Point'])\n",
    "    \n",
    "    pd_resources = pd.DataFrame(resources, columns=['id', 'name', 'adress', 'lat', 'lon', 'precode', 'areacode', 'category', 'category_flag'])\n",
    "    pd_resources.to_csv('01_output/{}/resources.csv'.format(name))\n",
    "    pd_resources.to_excel('01_output/{}/resources.xlsx'.format(name))\n",
    "    pd_resources\n",
    "    \n",
    "    allresources = allresources + resources\n",
    "pd_resources = pd.DataFrame(allresources, columns=['id', 'name', 'adress', 'lat', 'lon', 'precode', 'areacode', 'category', 'category_flag'])\n",
    "pd_resources.to_csv('01_output/resources.csv'.format(name))\n",
    "pd_resources.to_excel('01_output/resources.xlsx'.format(name))\n",
    "pd_resources"
   ]
  },
  {
   "cell_type": "markdown",
   "metadata": {},
   "source": [
    "## メモ：XMLファイル修正点\n",
    "国土交通省のデータセットで一部エラーが出るファイルがあったため、下記の通り修正した。  \n",
    "■P12-14_12.xml  \n",
    "ファイルの最後に下記を追加  \n",
    "``` \n",
    "</ksj:TourismResource_Surface>\n",
    "</ksj:Dataset>\n",
    "```\n",
    "■P12-14_17.xml P12-14_21.xml P12-14_22.xml P12-14_28.xml    \n",
    "半角&を```&amp;```に変更  \n",
    "``` python\n",
    "file = open('01_input/P12-14_XX.xml')#XXは変えてください\n",
    "xml_text = file.read()\n",
    "file.close()\n",
    "xml_text = xml_text.replace('&', '&amp;')\n",
    "f = open('01_input/P12-14_XX_replace.xml', 'w')\n",
    "f.write(xml_text)\n",
    "f.close()\n",
    "``` "
   ]
  },
  {
   "cell_type": "code",
   "execution_count": null,
   "metadata": {},
   "outputs": [],
   "source": []
  }
 ],
 "metadata": {
  "kernelspec": {
   "display_name": "Python 3",
   "language": "python",
   "name": "python3"
  },
  "language_info": {
   "codemirror_mode": {
    "name": "ipython",
    "version": 3
   },
   "file_extension": ".py",
   "mimetype": "text/x-python",
   "name": "python",
   "nbconvert_exporter": "python",
   "pygments_lexer": "ipython3",
   "version": "3.8.3"
  }
 },
 "nbformat": 4,
 "nbformat_minor": 4
}
